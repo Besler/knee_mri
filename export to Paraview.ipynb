{
 "cells": [
  {
   "cell_type": "markdown",
   "metadata": {},
   "source": [
    "Goal of this notebook: \n",
    "\n",
    "- explore DICOMDIR data using Python\n",
    "- export to ParaView and do something with it"
   ]
  },
  {
   "cell_type": "markdown",
   "metadata": {},
   "source": [
    "# Readings"
   ]
  },
  {
   "cell_type": "markdown",
   "metadata": {},
   "source": [
    "## People who have done this before\n",
    "\n",
    "http://pythology.blogspot.fr/2017/01/visualize-your-dicom-ct-scan-in-3d-with.html\n",
    "\n",
    "\n",
    "https://pyscience.wordpress.com/2014/09/08/dicom-in-python-importing-medical-image-data-into-numpy-with-pydicom-and-vtk/\n",
    "\n",
    "\n",
    "\n",
    "http://bastian.rieck.ru/blog/posts/2014/dicom_utilities/\n",
    "\n",
    "\n",
    "## Python packages\n",
    "\n",
    "Pydicom\n",
    "\n",
    "\n",
    "## Other\n",
    "\n",
    "Paraview can read .dcm files.\n",
    "\n",
    "But not DICOMDIR headers. \n",
    "\n",
    "ITK could, but it needicomdir to be installed.\n",
    "\n",
    "GDCM is an implementation of DICOM that has Python wrappers.\n",
    "\n",
    "[this page](http://dicomiseasy.blogspot.fr/2013/03/dicomdir-and-media-interchange.html) explains how DICOM works."
   ]
  },
  {
   "cell_type": "markdown",
   "metadata": {},
   "source": [
    "# Exploring the data "
   ]
  },
  {
   "cell_type": "markdown",
   "metadata": {},
   "source": [
    "## The header "
   ]
  },
  {
   "cell_type": "code",
   "execution_count": 1,
   "metadata": {
    "collapsed": true
   },
   "outputs": [],
   "source": [
    "import dicom"
   ]
  },
  {
   "cell_type": "code",
   "execution_count": 2,
   "metadata": {
    "collapsed": false,
    "scrolled": false
   },
   "outputs": [],
   "source": [
    "dicomdir = dicom.read_dicomdir()"
   ]
  },
  {
   "cell_type": "markdown",
   "metadata": {},
   "source": [
    "There's quite a lot of stuff in here."
   ]
  },
  {
   "cell_type": "code",
   "execution_count": 3,
   "metadata": {
    "collapsed": false
   },
   "outputs": [
    {
     "data": {
      "text/plain": [
       "<Sequence, length 120, at 628E6D8>"
      ]
     },
     "execution_count": 3,
     "metadata": {},
     "output_type": "execute_result"
    }
   ],
   "source": [
    "dicomdir.DirectoryRecordSequence"
   ]
  },
  {
   "cell_type": "markdown",
   "metadata": {},
   "source": [
    "What sort of nodes do we have?"
   ]
  },
  {
   "cell_type": "code",
   "execution_count": 4,
   "metadata": {
    "collapsed": false
   },
   "outputs": [
    {
     "data": {
      "text/plain": [
       "{'IMAGE', 'PATIENT', 'SERIES', 'STUDY'}"
      ]
     },
     "execution_count": 4,
     "metadata": {},
     "output_type": "execute_result"
    }
   ],
   "source": [
    "set([record.DirectoryRecordType for record in dicomdir.DirectoryRecordSequence])"
   ]
  },
  {
   "cell_type": "markdown",
   "metadata": {},
   "source": [
    "Let's count the instances of each."
   ]
  },
  {
   "cell_type": "code",
   "execution_count": 5,
   "metadata": {
    "collapsed": false
   },
   "outputs": [],
   "source": [
    "from collections import Counter"
   ]
  },
  {
   "cell_type": "code",
   "execution_count": 6,
   "metadata": {
    "collapsed": false
   },
   "outputs": [
    {
     "data": {
      "text/plain": [
       "Counter({'IMAGE': 112, 'PATIENT': 1, 'SERIES': 6, 'STUDY': 1})"
      ]
     },
     "execution_count": 6,
     "metadata": {},
     "output_type": "execute_result"
    }
   ],
   "source": [
    "Counter([record.DirectoryRecordType for record in dicomdir.DirectoryRecordSequence])"
   ]
  },
  {
   "cell_type": "markdown",
   "metadata": {},
   "source": [
    "Let's just print the patient, study and series items."
   ]
  },
  {
   "cell_type": "code",
   "execution_count": 7,
   "metadata": {
    "collapsed": false
   },
   "outputs": [
    {
     "name": "stdout",
     "output_type": "stream",
     "text": [
      "(0004, 1400) Offset of the Next Directory Record UL: 0\n",
      "(0004, 1410) Record In-use Flag                  US: 65535\n",
      "(0004, 1420) Offset of Referenced Lower-Level Di UL: 530\n",
      "(0004, 1430) Directory Record Type               CS: 'PATIENT'\n",
      "(0008, 0005) Specific Character Set              CS: 'ISO_IR 100'\n",
      "(0010, 0010) Patient's Name                      PN: 'LE BOURDAIS^Florian'\n",
      "(0010, 0020) Patient ID                          LO: '337572.780873'\n"
     ]
    }
   ],
   "source": [
    "for record in dicomdir.DirectoryRecordSequence:\n",
    "    if record.DirectoryRecordType == 'PATIENT':\n",
    "        print(record)"
   ]
  },
  {
   "cell_type": "code",
   "execution_count": 8,
   "metadata": {
    "collapsed": false
   },
   "outputs": [
    {
     "name": "stdout",
     "output_type": "stream",
     "text": [
      "(0004, 1400) Offset of the Next Directory Record UL: 0\n",
      "(0004, 1410) Record In-use Flag                  US: 65535\n",
      "(0004, 1420) Offset of Referenced Lower-Level Di UL: 752\n",
      "(0004, 1430) Directory Record Type               CS: 'STUDY'\n",
      "(0008, 0005) Specific Character Set              CS: 'ISO_IR 100'\n",
      "(0008, 0020) Study Date                          DA: '20170502'\n",
      "(0008, 0030) Study Time                          TM: '174509.720000'\n",
      "(0008, 0050) Accession Number                    SH: '337572.14859'\n",
      "(0008, 1030) Study Description                   LO: 'MEMBRE INF^GENOU'\n",
      "(0020, 000d) Study Instance UID                  UI: 1.2.826.0.1.3680043.2.406.337572.20171\n",
      "(0020, 0010) Study ID                            SH: '337572.14859'\n"
     ]
    }
   ],
   "source": [
    "for record in dicomdir.DirectoryRecordSequence:\n",
    "    if record.DirectoryRecordType == 'STUDY':\n",
    "        print(record)"
   ]
  },
  {
   "cell_type": "code",
   "execution_count": 9,
   "metadata": {
    "collapsed": false
   },
   "outputs": [
    {
     "name": "stdout",
     "output_type": "stream",
     "text": [
      "(0004, 1400) Offset of the Next Directory Record UL: 1738\n",
      "(0004, 1410) Record In-use Flag                  US: 65535\n",
      "(0004, 1420) Offset of Referenced Lower-Level Di UL: 934\n",
      "(0004, 1430) Directory Record Type               CS: 'SERIES'\n",
      "(0008, 0005) Specific Character Set              CS: 'ISO_IR 100'\n",
      "(0008, 0060) Modality                            CS: 'MR'\n",
      "(0008, 103e) Series Description                  LO: 'localizer_tra'\n",
      "(0020, 000e) Series Instance UID                 UI: 1.3.12.2.1107.5.2.40.50164.2017050217460712059466888.0.0.0\n",
      "(0020, 0011) Series Number                       IS: '1'\n",
      "(0004, 1400) Offset of the Next Directory Record UL: 8370\n",
      "(0004, 1410) Record In-use Flag                  US: 65535\n",
      "(0004, 1420) Offset of Referenced Lower-Level Di UL: 1924\n",
      "(0004, 1430) Directory Record Type               CS: 'SERIES'\n",
      "(0008, 0005) Specific Character Set              CS: 'ISO_IR 100'\n",
      "(0008, 0060) Modality                            CS: 'MR'\n",
      "(0008, 103e) Series Description                  LO: 'localizer 3 PLANS'\n",
      "(0020, 000e) Series Instance UID                 UI: 1.3.12.2.1107.5.2.40.50164.2017050217463861791466904.0.0.0\n",
      "(0020, 0011) Series Number                       IS: '2'\n",
      "(0004, 1400) Offset of the Next Directory Record UL: 22806\n",
      "(0004, 1410) Record In-use Flag                  US: 65535\n",
      "(0004, 1420) Offset of Referenced Lower-Level Di UL: 8550\n",
      "(0004, 1430) Directory Record Type               CS: 'SERIES'\n",
      "(0008, 0005) Specific Character Set              CS: 'ISO_IR 100'\n",
      "(0008, 0060) Modality                            CS: 'MR'\n",
      "(0008, 103e) Series Description                  LO: 'SAG DP FS .'\n",
      "(0020, 000e) Series Instance UID                 UI: 1.3.12.2.1107.5.2.40.50164.2017050217495189824567016.0.0.0\n",
      "(0020, 0011) Series Number                       IS: '3'\n",
      "(0004, 1400) Offset of the Next Directory Record UL: 36052\n",
      "(0004, 1410) Record In-use Flag                  US: 65535\n",
      "(0004, 1420) Offset of Referenced Lower-Level Di UL: 22984\n",
      "(0004, 1430) Directory Record Type               CS: 'SERIES'\n",
      "(0008, 0005) Specific Character Set              CS: 'ISO_IR 100'\n",
      "(0008, 0060) Modality                            CS: 'MR'\n",
      "(0008, 103e) Series Description                  LO: 'CORO DP FS'\n",
      "(0020, 000e) Series Instance UID                 UI: 1.3.12.2.1107.5.2.40.50164.2017050217524460093667116.0.0.0\n",
      "(0020, 0011) Series Number                       IS: '4'\n",
      "(0004, 1400) Offset of the Next Directory Record UL: 52918\n",
      "(0004, 1410) Record In-use Flag                  US: 65535\n",
      "(0004, 1420) Offset of Referenced Lower-Level Di UL: 36230\n",
      "(0004, 1430) Directory Record Type               CS: 'SERIES'\n",
      "(0008, 0005) Specific Character Set              CS: 'ISO_IR 100'\n",
      "(0008, 0060) Modality                            CS: 'MR'\n",
      "(0008, 103e) Series Description                  LO: 'AX DP FS .'\n",
      "(0020, 000e) Series Instance UID                 UI: 1.3.12.2.1107.5.2.40.50164.2017050217551162102367254.0.0.0\n",
      "(0020, 0011) Series Number                       IS: '5'\n",
      "(0004, 1400) Offset of the Next Directory Record UL: 0\n",
      "(0004, 1410) Record In-use Flag                  US: 65535\n",
      "(0004, 1420) Offset of Referenced Lower-Level Di UL: 53092\n",
      "(0004, 1430) Directory Record Type               CS: 'SERIES'\n",
      "(0008, 0005) Specific Character Set              CS: 'ISO_IR 100'\n",
      "(0008, 0060) Modality                            CS: 'MR'\n",
      "(0008, 103e) Series Description                  LO: 'SAG T1'\n",
      "(0020, 000e) Series Instance UID                 UI: 1.3.12.2.1107.5.2.40.50164.2017050217555126424667426.0.0.0\n",
      "(0020, 0011) Series Number                       IS: '6'\n"
     ]
    }
   ],
   "source": [
    "for record in dicomdir.DirectoryRecordSequence:\n",
    "    if record.DirectoryRecordType == 'SERIES':\n",
    "        print(record)"
   ]
  },
  {
   "cell_type": "markdown",
   "metadata": {},
   "source": [
    "So I have six series."
   ]
  },
  {
   "cell_type": "code",
   "execution_count": 10,
   "metadata": {
    "collapsed": true
   },
   "outputs": [],
   "source": [
    "series = [record for record in dicomdir.DirectoryRecordSequence if record.DirectoryRecordType == 'SERIES']"
   ]
  },
  {
   "cell_type": "markdown",
   "metadata": {},
   "source": [
    "How do I know the links between the series? I can just query their children!"
   ]
  },
  {
   "cell_type": "code",
   "execution_count": 11,
   "metadata": {
    "collapsed": false
   },
   "outputs": [
    {
     "name": "stdout",
     "output_type": "stream",
     "text": [
      "localizer_tra 3 images\n",
      "localizer 3 PLANS 11 images\n",
      "SAG DP FS . 24 images\n",
      "CORO DP FS 22 images\n",
      "AX DP FS . 28 images\n",
      "SAG T1 24 images\n"
     ]
    }
   ],
   "source": [
    "for serie in series:\n",
    "    print(serie.SeriesDescription, len(serie.children), \"images\")"
   ]
  },
  {
   "cell_type": "markdown",
   "metadata": {},
   "source": [
    "## Individual image "
   ]
  },
  {
   "cell_type": "markdown",
   "metadata": {},
   "source": [
    "As a first step, I want to just be able to read a single image, for which I can get the raw data."
   ]
  },
  {
   "cell_type": "code",
   "execution_count": 12,
   "metadata": {
    "collapsed": false
   },
   "outputs": [],
   "source": [
    "child_records = [record for record in series[0].children]"
   ]
  },
  {
   "cell_type": "code",
   "execution_count": 13,
   "metadata": {
    "collapsed": false
   },
   "outputs": [
    {
     "data": {
      "text/plain": [
       "3"
      ]
     },
     "execution_count": 13,
     "metadata": {},
     "output_type": "execute_result"
    }
   ],
   "source": [
    "len(child_records)"
   ]
  },
  {
   "cell_type": "code",
   "execution_count": 14,
   "metadata": {
    "collapsed": true
   },
   "outputs": [],
   "source": [
    "record = child_records[0]"
   ]
  },
  {
   "cell_type": "code",
   "execution_count": 15,
   "metadata": {
    "collapsed": false
   },
   "outputs": [
    {
     "data": {
      "text/plain": [
       "(0004, 1400) Offset of the Next Directory Record UL: 1202\n",
       "(0004, 1410) Record In-use Flag                  US: 65535\n",
       "(0004, 1420) Offset of Referenced Lower-Level Di UL: 0\n",
       "(0004, 1430) Directory Record Type               CS: 'IMAGE'\n",
       "(0004, 1500) Referenced File ID                  CS: ['IMAGES', 'IM00002']\n",
       "(0004, 1510) Referenced SOP Class UID in File    UI: MR Image Storage\n",
       "(0004, 1511) Referenced SOP Instance UID in File UI: 1.3.12.2.1107.5.2.40.50164.2017050217461498337266901\n",
       "(0004, 1512) Referenced Transfer Syntax UID in F UI: JPEG Lossless, Non-Hierarchical, First-Order Prediction (Process 14 [Selection Value 1])\n",
       "(0008, 0005) Specific Character Set              CS: 'ISO_IR 100'\n",
       "(0008, 0008) Image Type                          CS: ['DERIVED', 'SECONDARY', 'M', 'NORM', 'DIS2D']\n",
       "(0020, 0013) Instance Number                     IS: '2'"
      ]
     },
     "execution_count": 15,
     "metadata": {},
     "output_type": "execute_result"
    }
   ],
   "source": [
    "record"
   ]
  },
  {
   "cell_type": "code",
   "execution_count": 16,
   "metadata": {
    "collapsed": false
   },
   "outputs": [
    {
     "data": {
      "text/plain": [
       "(0004, 1400) Offset of the Next Directory Record UL: 1470\n",
       "(0004, 1410) Record In-use Flag                  US: 65535\n",
       "(0004, 1420) Offset of Referenced Lower-Level Di UL: 0\n",
       "(0004, 1430) Directory Record Type               CS: 'IMAGE'\n",
       "(0004, 1500) Referenced File ID                  CS: ['IMAGES', 'IM00000']\n",
       "(0004, 1510) Referenced SOP Class UID in File    UI: MR Image Storage\n",
       "(0004, 1511) Referenced SOP Instance UID in File UI: 1.3.12.2.1107.5.2.40.50164.2017050217461287636966893\n",
       "(0004, 1512) Referenced Transfer Syntax UID in F UI: JPEG Lossless, Non-Hierarchical, First-Order Prediction (Process 14 [Selection Value 1])\n",
       "(0008, 0005) Specific Character Set              CS: 'ISO_IR 100'\n",
       "(0008, 0008) Image Type                          CS: ['DERIVED', 'SECONDARY', 'M', 'NORM', 'DIS2D']\n",
       "(0020, 0013) Instance Number                     IS: '3'"
      ]
     },
     "execution_count": 16,
     "metadata": {},
     "output_type": "execute_result"
    }
   ],
   "source": [
    "child_records[1]"
   ]
  },
  {
   "cell_type": "code",
   "execution_count": 17,
   "metadata": {
    "collapsed": false
   },
   "outputs": [
    {
     "data": {
      "text/plain": [
       "(0004, 1400) Offset of the Next Directory Record UL: 0\n",
       "(0004, 1410) Record In-use Flag                  US: 65535\n",
       "(0004, 1420) Offset of Referenced Lower-Level Di UL: 0\n",
       "(0004, 1430) Directory Record Type               CS: 'IMAGE'\n",
       "(0004, 1500) Referenced File ID                  CS: ['IMAGES', 'IM00001']\n",
       "(0004, 1510) Referenced SOP Class UID in File    UI: MR Image Storage\n",
       "(0004, 1511) Referenced SOP Instance UID in File UI: 1.3.12.2.1107.5.2.40.50164.2017050217461356040866897\n",
       "(0004, 1512) Referenced Transfer Syntax UID in F UI: JPEG Lossless, Non-Hierarchical, First-Order Prediction (Process 14 [Selection Value 1])\n",
       "(0008, 0005) Specific Character Set              CS: 'ISO_IR 100'\n",
       "(0008, 0008) Image Type                          CS: ['DERIVED', 'SECONDARY', 'M', 'NORM', 'DIS2D']\n",
       "(0020, 0013) Instance Number                     IS: '1'"
      ]
     },
     "execution_count": 17,
     "metadata": {},
     "output_type": "execute_result"
    }
   ],
   "source": [
    "child_records[2]"
   ]
  },
  {
   "cell_type": "code",
   "execution_count": 18,
   "metadata": {
    "collapsed": false
   },
   "outputs": [
    {
     "data": {
      "text/plain": [
       "['2', '3', '1']"
      ]
     },
     "execution_count": 18,
     "metadata": {},
     "output_type": "execute_result"
    }
   ],
   "source": [
    "[record.InstanceNumber for record in child_records]"
   ]
  },
  {
   "cell_type": "markdown",
   "metadata": {},
   "source": [
    "Now how do I get the raw data? I should be able to save it to a file and read it. See here: <http://stackoverflow.com/questions/10129717/how-access-to-a-single-numpy-array-in-a-dicomdir-file-with-pydicom>."
   ]
  },
  {
   "cell_type": "code",
   "execution_count": 19,
   "metadata": {
    "collapsed": false
   },
   "outputs": [],
   "source": [
    "import os\n",
    "for record in child_records:\n",
    "    if record.DirectoryRecordType == \"IMAGE\":\n",
    "    # Extract the relative path to the DICOM file\n",
    "        path = os.path.join(*record.ReferencedFileID)\n",
    "        dcm = dicom.read_file(path)"
   ]
  },
  {
   "cell_type": "markdown",
   "metadata": {},
   "source": [
    "This issue says that I can just save the PixelData to a file <https://github.com/darcymason/pydicom/issues/213>"
   ]
  },
  {
   "cell_type": "code",
   "execution_count": 20,
   "metadata": {
    "collapsed": false
   },
   "outputs": [],
   "source": [
    "with open('extraction_test.jpg', 'wb') as f:\n",
    "    f.write(dcm.PixelData)"
   ]
  },
  {
   "cell_type": "markdown",
   "metadata": {},
   "source": [
    "## Converting the data "
   ]
  },
  {
   "cell_type": "markdown",
   "metadata": {},
   "source": [
    "This doesn't work: I need a reader that knows that format. Let's try with gdcmconv <http://gdcm.sourceforge.net/html/gdcmconv.html>."
   ]
  },
  {
   "cell_type": "code",
   "execution_count": 25,
   "metadata": {
    "collapsed": true
   },
   "outputs": [],
   "source": [
    "import glob"
   ]
  },
  {
   "cell_type": "code",
   "execution_count": 30,
   "metadata": {
    "collapsed": false
   },
   "outputs": [],
   "source": [
    "filenames = [fname for fname in glob.glob('IMAGES/IM*') if not fname.endswith('.raw')]"
   ]
  },
  {
   "cell_type": "code",
   "execution_count": 32,
   "metadata": {
    "collapsed": false
   },
   "outputs": [
    {
     "data": {
      "text/plain": [
       "['IMAGES\\\\IM00000',\n",
       " 'IMAGES\\\\IM00001',\n",
       " 'IMAGES\\\\IM00002',\n",
       " 'IMAGES\\\\IM00003',\n",
       " 'IMAGES\\\\IM00004',\n",
       " 'IMAGES\\\\IM00005',\n",
       " 'IMAGES\\\\IM00006',\n",
       " 'IMAGES\\\\IM00007',\n",
       " 'IMAGES\\\\IM00008',\n",
       " 'IMAGES\\\\IM00009']"
      ]
     },
     "execution_count": 32,
     "metadata": {},
     "output_type": "execute_result"
    }
   ],
   "source": [
    "filenames[:10]"
   ]
  },
  {
   "cell_type": "markdown",
   "metadata": {},
   "source": [
    "There's a trick to integrate Python stuff into the shell command found here: <https://www.safaribooksonline.com/blog/2014/02/12/using-shell-commands-effectively-ipython/>."
   ]
  },
  {
   "cell_type": "code",
   "execution_count": 33,
   "metadata": {
    "collapsed": false
   },
   "outputs": [],
   "source": [
    "for fname in filenames:\n",
    "    !gdcmconv.exe -i {fname} -o {fname + '.raw'} --raw"
   ]
  },
  {
   "cell_type": "markdown",
   "metadata": {
    "collapsed": true
   },
   "source": [
    "Cool, now I have converted all my files to raw files. I can now build 3D datasets."
   ]
  },
  {
   "cell_type": "markdown",
   "metadata": {},
   "source": [
    "## Building datasets "
   ]
  },
  {
   "cell_type": "markdown",
   "metadata": {},
   "source": [
    "Let's now build a dataset with this. I follow the Pyscience blog: <https://pyscience.wordpress.com/2014/09/08/dicom-in-python-importing-medical-image-data-into-numpy-with-pydicom-and-vtk/>."
   ]
  },
  {
   "cell_type": "markdown",
   "metadata": {},
   "source": [
    "I just want to keep the images of one series so I have to filter these filenames."
   ]
  },
  {
   "cell_type": "code",
   "execution_count": 51,
   "metadata": {
    "collapsed": false
   },
   "outputs": [
    {
     "data": {
      "text/plain": [
       "1"
      ]
     },
     "execution_count": 51,
     "metadata": {},
     "output_type": "execute_result"
    }
   ],
   "source": [
    "int(child_records[0].InstanceNumber)"
   ]
  },
  {
   "cell_type": "code",
   "execution_count": 39,
   "metadata": {
    "collapsed": false
   },
   "outputs": [
    {
     "data": {
      "text/plain": [
       "22"
      ]
     },
     "execution_count": 39,
     "metadata": {},
     "output_type": "execute_result"
    }
   ],
   "source": [
    "child_records = [record for record in series[3].children]\n",
    "len(child_records)"
   ]
  },
  {
   "cell_type": "markdown",
   "metadata": {},
   "source": [
    "And I have to sort them by instance number."
   ]
  },
  {
   "cell_type": "code",
   "execution_count": 58,
   "metadata": {
    "collapsed": true
   },
   "outputs": [],
   "source": [
    "child_records = sorted(child_records, key=lambda r: int(r.InstanceNumber))"
   ]
  },
  {
   "cell_type": "code",
   "execution_count": 59,
   "metadata": {
    "collapsed": true
   },
   "outputs": [],
   "source": [
    "raw_filenames = [\"\\\\\".join(record.RefdFileID) + \".raw\" for record in child_records]"
   ]
  },
  {
   "cell_type": "markdown",
   "metadata": {},
   "source": [
    "Now I can read them and make a big array."
   ]
  },
  {
   "cell_type": "code",
   "execution_count": 61,
   "metadata": {
    "collapsed": false
   },
   "outputs": [],
   "source": [
    "RefDs = dicom.read_file(raw_filenames[0])\n",
    "\n",
    "# Load dimensions based on the number of rows, columns, and slices (along the Z axis)\n",
    "ConstPixelDims = (int(RefDs.Rows), int(RefDs.Columns), len(raw_filenames))\n",
    "\n",
    "# Load spacing values (in mm)\n",
    "ConstPixelSpacing = (float(RefDs.PixelSpacing[0]), float(RefDs.PixelSpacing[1]), float(RefDs.SliceThickness))"
   ]
  },
  {
   "cell_type": "code",
   "execution_count": 62,
   "metadata": {
    "collapsed": false
   },
   "outputs": [
    {
     "data": {
      "text/plain": [
       "(384, 384, 22)"
      ]
     },
     "execution_count": 62,
     "metadata": {},
     "output_type": "execute_result"
    }
   ],
   "source": [
    "ConstPixelDims"
   ]
  },
  {
   "cell_type": "code",
   "execution_count": 63,
   "metadata": {
    "collapsed": false
   },
   "outputs": [
    {
     "data": {
      "text/plain": [
       "(0.44270834326744, 0.44270834326744, 3.0)"
      ]
     },
     "execution_count": 63,
     "metadata": {},
     "output_type": "execute_result"
    }
   ],
   "source": [
    "ConstPixelSpacing"
   ]
  },
  {
   "cell_type": "markdown",
   "metadata": {},
   "source": [
    "Now I can create a grid."
   ]
  },
  {
   "cell_type": "code",
   "execution_count": 65,
   "metadata": {
    "collapsed": true
   },
   "outputs": [],
   "source": [
    "import numpy as np"
   ]
  },
  {
   "cell_type": "code",
   "execution_count": 66,
   "metadata": {
    "collapsed": false
   },
   "outputs": [],
   "source": [
    "x = np.arange(0.0, (ConstPixelDims[0]+1)*ConstPixelSpacing[0], ConstPixelSpacing[0])\n",
    "y = np.arange(0.0, (ConstPixelDims[1]+1)*ConstPixelSpacing[1], ConstPixelSpacing[1])\n",
    "z = np.arange(0.0, (ConstPixelDims[2]+1)*ConstPixelSpacing[2], ConstPixelSpacing[2])"
   ]
  },
  {
   "cell_type": "code",
   "execution_count": 72,
   "metadata": {
    "collapsed": false
   },
   "outputs": [
    {
     "data": {
      "text/plain": [
       "(385,)"
      ]
     },
     "execution_count": 72,
     "metadata": {},
     "output_type": "execute_result"
    }
   ],
   "source": [
    "x.shape"
   ]
  },
  {
   "cell_type": "code",
   "execution_count": 73,
   "metadata": {
    "collapsed": false
   },
   "outputs": [
    {
     "data": {
      "text/plain": [
       "(385,)"
      ]
     },
     "execution_count": 73,
     "metadata": {},
     "output_type": "execute_result"
    }
   ],
   "source": [
    "y.shape"
   ]
  },
  {
   "cell_type": "code",
   "execution_count": 74,
   "metadata": {
    "collapsed": false
   },
   "outputs": [
    {
     "data": {
      "text/plain": [
       "(384, 384, 22)"
      ]
     },
     "execution_count": 74,
     "metadata": {},
     "output_type": "execute_result"
    }
   ],
   "source": [
    "ArrayDicom.shape"
   ]
  },
  {
   "cell_type": "code",
   "execution_count": 69,
   "metadata": {
    "collapsed": false
   },
   "outputs": [],
   "source": [
    "# The array is sized based on 'ConstPixelDims'\n",
    "ArrayDicom = np.zeros(ConstPixelDims, dtype=RefDs.pixel_array.dtype)\n",
    "\n",
    "# loop through all the DICOM files\n",
    "for filenameDCM in raw_filenames:\n",
    "    # read the file\n",
    "    ds = dicom.read_file(filenameDCM)\n",
    "    # store the raw image data\n",
    "    ArrayDicom[:, :, raw_filenames.index(filenameDCM)] = ds.pixel_array  "
   ]
  },
  {
   "cell_type": "markdown",
   "metadata": {},
   "source": [
    "Finally, I can save this array to a file."
   ]
  },
  {
   "cell_type": "code",
   "execution_count": 70,
   "metadata": {
    "collapsed": true
   },
   "outputs": [],
   "source": [
    "from evtk.hl import gridToVTK "
   ]
  },
  {
   "cell_type": "code",
   "execution_count": 76,
   "metadata": {
    "collapsed": false
   },
   "outputs": [
    {
     "data": {
      "text/plain": [
       "'C:\\\\Users\\\\FL232714\\\\Documents\\\\Perso\\\\IRM\\\\datasets\\\\dataset.vtr'"
      ]
     },
     "execution_count": 76,
     "metadata": {},
     "output_type": "execute_result"
    }
   ],
   "source": [
    "gridToVTK('datasets/dataset', x, y, z, cellData={'IRM': ArrayDicom})"
   ]
  },
  {
   "cell_type": "markdown",
   "metadata": {},
   "source": [
    "Let's also build the other datasets."
   ]
  },
  {
   "cell_type": "code",
   "execution_count": 85,
   "metadata": {
    "collapsed": true
   },
   "outputs": [],
   "source": [
    "def build_dataset(serie, outputfname):\n",
    "    \"Builds a vtk dataset from a given series with its children images.\"\n",
    "    child_records = [record for record in serie.children]\n",
    "    child_records = sorted(child_records, key=lambda r: int(r.InstanceNumber))\n",
    "    raw_filenames = [\"\\\\\".join(record.RefdFileID) + \".raw\" for record in child_records]\n",
    "    RefDs = dicom.read_file(raw_filenames[0])\n",
    "    # Load dimensions based on the number of rows, columns, and slices (along the Z axis)\n",
    "    ConstPixelDims = (int(RefDs.Rows), int(RefDs.Columns), len(raw_filenames))\n",
    "    # Load spacing values (in mm)\n",
    "    ConstPixelSpacing = (float(RefDs.PixelSpacing[0]), float(RefDs.PixelSpacing[1]), float(RefDs.SliceThickness))\n",
    "    x = np.arange(0.0, (ConstPixelDims[0]+1)*ConstPixelSpacing[0], ConstPixelSpacing[0])\n",
    "    y = np.arange(0.0, (ConstPixelDims[1]+1)*ConstPixelSpacing[1], ConstPixelSpacing[1])\n",
    "    z = np.arange(0.0, (ConstPixelDims[2]+1)*ConstPixelSpacing[2], ConstPixelSpacing[2])\n",
    "    # The array is sized based on 'ConstPixelDims'\n",
    "    ArrayDicom = np.zeros(ConstPixelDims, dtype=RefDs.pixel_array.dtype)\n",
    "\n",
    "    # loop through all the DICOM files\n",
    "    for filenameDCM in raw_filenames:\n",
    "        # read the file\n",
    "        ds = dicom.read_file(filenameDCM)\n",
    "        # store the raw image data\n",
    "        ArrayDicom[:, :, raw_filenames.index(filenameDCM)] = ds.pixel_array  \n",
    "        \n",
    "        \n",
    "\n",
    "    gridToVTK(outputfname, x, y, z, cellData={'IRM': ArrayDicom})"
   ]
  },
  {
   "cell_type": "code",
   "execution_count": 86,
   "metadata": {
    "collapsed": true
   },
   "outputs": [],
   "source": [
    "build_dataset(series[0], \"datasets/dataset_0\")"
   ]
  },
  {
   "cell_type": "code",
   "execution_count": 87,
   "metadata": {
    "collapsed": true
   },
   "outputs": [],
   "source": [
    "build_dataset(series[1], \"datasets/dataset_1\")"
   ]
  },
  {
   "cell_type": "code",
   "execution_count": 88,
   "metadata": {
    "collapsed": true
   },
   "outputs": [],
   "source": [
    "build_dataset(series[2], \"datasets/dataset_2\")"
   ]
  },
  {
   "cell_type": "code",
   "execution_count": 89,
   "metadata": {
    "collapsed": true
   },
   "outputs": [],
   "source": [
    "build_dataset(series[3], \"datasets/dataset_3\")"
   ]
  },
  {
   "cell_type": "code",
   "execution_count": 90,
   "metadata": {
    "collapsed": true
   },
   "outputs": [],
   "source": [
    "build_dataset(series[4], \"datasets/dataset_4\")"
   ]
  },
  {
   "cell_type": "code",
   "execution_count": 91,
   "metadata": {
    "collapsed": true
   },
   "outputs": [],
   "source": [
    "build_dataset(series[5], \"datasets/dataset_5\")"
   ]
  },
  {
   "cell_type": "markdown",
   "metadata": {},
   "source": [
    "## Investigating the histogram of the data "
   ]
  },
  {
   "cell_type": "markdown",
   "metadata": {},
   "source": [
    "Credits for the approach here:\n",
    "\n",
    "https://www.raddq.com/dicom-processing-segmentation-visualization-in-python/"
   ]
  },
  {
   "cell_type": "code",
   "execution_count": 77,
   "metadata": {
    "collapsed": true
   },
   "outputs": [],
   "source": [
    "import matplotlib.pyplot as plt\n",
    "%matplotlib inline"
   ]
  },
  {
   "cell_type": "code",
   "execution_count": 80,
   "metadata": {
    "collapsed": false
   },
   "outputs": [
    {
     "data": {
      "image/png": "[encoded data removed]",
      "text/plain": [
       "<matplotlib.figure.Figure at 0x9c89ba8>"
      ]
     },
     "metadata": {},
     "output_type": "display_data"
    }
   ],
   "source": [
    "plt.hist(ArrayDicom.ravel(), bins=100);"
   ]
  },
  {
   "cell_type": "markdown",
   "metadata": {},
   "source": [
    "Let's display one of the slices I have with a lot of bone."
   ]
  },
  {
   "cell_type": "code",
   "execution_count": 82,
   "metadata": {
    "collapsed": false
   },
   "outputs": [
    {
     "data": {
      "text/plain": [
       "<matplotlib.colorbar.Colorbar at 0x9e90470>"
      ]
     },
     "execution_count": 82,
     "metadata": {},
     "output_type": "execute_result"
    },
    {
     "data": {
      "image/png": "[encoded data removed]",
      "text/plain": [
       "<matplotlib.figure.Figure at 0x9cebd68>"
      ]
     },
     "metadata": {},
     "output_type": "display_data"
    }
   ],
   "source": [
    "plt.imshow(ArrayDicom[:, :, 11])\n",
    "plt.colorbar()"
   ]
  },
  {
   "cell_type": "markdown",
   "metadata": {},
   "source": [
    "## Segmenting the dataset using scikit-image "
   ]
  },
  {
   "cell_type": "code",
   "execution_count": null,
   "metadata": {
    "collapsed": true
   },
   "outputs": [],
   "source": []
  }
 ],
 "metadata": {
  "kernelspec": {
   "display_name": "Python 3",
   "language": "python",
   "name": "python3"
  },
  "language_info": {
   "codemirror_mode": {
    "name": "ipython",
    "version": 3
   },
   "file_extension": ".py",
   "mimetype": "text/x-python",
   "name": "python",
   "nbconvert_exporter": "python",
   "pygments_lexer": "ipython3",
   "version": "3.5.2"
  }
 },
 "nbformat": 4,
 "nbformat_minor": 0
}
